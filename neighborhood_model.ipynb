{
 "cells": [
  {
   "cell_type": "code",
   "execution_count": 1,
   "metadata": {},
   "outputs": [],
   "source": [
    "import pandas as pd\n",
    "import numpy as np\n",
    "import seaborn as sns\n",
    "import matplotlib.pyplot as plt\n",
    "from sklearn.neighbors import NearestNeighbors\n",
    "from sklearn.metrics import pairwise\n",
    "from scipy.sparse import csr_matrix\n",
    "import sklearn\n",
    "import pickle"
   ]
  },
  {
   "cell_type": "code",
   "execution_count": 6,
   "metadata": {},
   "outputs": [],
   "source": [
    "ratings = pd.read_csv('ml-latest-small/ratings.csv')\n",
    "movies = pd.read_csv('ml-latest-small/movies.csv')"
   ]
  },
  {
   "cell_type": "code",
   "execution_count": 7,
   "metadata": {},
   "outputs": [],
   "source": [
    "with open('./distance_recommender.pkl', 'rb') as file:\n",
    "    model = pickle.load(file)"
   ]
  },
  {
   "cell_type": "code",
   "execution_count": 14,
   "metadata": {},
   "outputs": [],
   "source": [
    "def recommend_neighborhood(query, model, ratings, k=10):\n",
    "\n",
    "    user_vec = np.repeat(0, 168253)\n",
    "    user_vec[list(query.keys())] = list(query.values())\n",
    "\n",
    "    distances, userIds = model.kneighbors([user_vec], n_neighbors=10, return_distance=True)\n",
    "\n",
    "    distances = distances[0]\n",
    "    userIds = userIds[0]\n",
    "\n",
    "    neighborhood = ratings.set_index('userId').loc[userIds]\n",
    "\n",
    "    factors = np.array(distances)[neighborhood.index.factorize()[0]]\n",
    "    neighborhood['rating'] *= 1-factors\n",
    "    \n",
    "    scores = neighborhood.groupby('movieId')['rating'].sum()\n",
    "    \n",
    "\n",
    "    allready_seen = scores.index.isin(query.keys())\n",
    "    scores.loc[allready_seen] = 0\n",
    "    scores = scores.sort_values(ascending=False)\n",
    "\n",
    "    recommendations = scores.head(k).index\n",
    "\n",
    "    result = movies.set_index('movieId').loc[recommendations]\n",
    "\n",
    "    return result"
   ]
  },
  {
   "cell_type": "code",
   "execution_count": 15,
   "metadata": {},
   "outputs": [],
   "source": [
    "test_query = {1: 5, 20: 5, 3: 5, 4: 5, 5: 5, 7:5}"
   ]
  },
  {
   "cell_type": "code",
   "execution_count": 16,
   "metadata": {},
   "outputs": [
    {
     "data": {
      "text/html": [
       "<div>\n",
       "<style scoped>\n",
       "    .dataframe tbody tr th:only-of-type {\n",
       "        vertical-align: middle;\n",
       "    }\n",
       "\n",
       "    .dataframe tbody tr th {\n",
       "        vertical-align: top;\n",
       "    }\n",
       "\n",
       "    .dataframe thead th {\n",
       "        text-align: right;\n",
       "    }\n",
       "</style>\n",
       "<table border=\"1\" class=\"dataframe\">\n",
       "  <thead>\n",
       "    <tr style=\"text-align: right;\">\n",
       "      <th></th>\n",
       "      <th>title</th>\n",
       "      <th>genres</th>\n",
       "    </tr>\n",
       "    <tr>\n",
       "      <th>movieId</th>\n",
       "      <th></th>\n",
       "      <th></th>\n",
       "    </tr>\n",
       "  </thead>\n",
       "  <tbody>\n",
       "    <tr>\n",
       "      <th>780</th>\n",
       "      <td>Independence Day (a.k.a. ID4) (1996)</td>\n",
       "      <td>Action|Adventure|Sci-Fi|Thriller</td>\n",
       "    </tr>\n",
       "    <tr>\n",
       "      <th>1073</th>\n",
       "      <td>Willy Wonka &amp; the Chocolate Factory (1971)</td>\n",
       "      <td>Children|Comedy|Fantasy|Musical</td>\n",
       "    </tr>\n",
       "    <tr>\n",
       "      <th>648</th>\n",
       "      <td>Mission: Impossible (1996)</td>\n",
       "      <td>Action|Adventure|Mystery|Thriller</td>\n",
       "    </tr>\n",
       "    <tr>\n",
       "      <th>32</th>\n",
       "      <td>Twelve Monkeys (a.k.a. 12 Monkeys) (1995)</td>\n",
       "      <td>Mystery|Sci-Fi|Thriller</td>\n",
       "    </tr>\n",
       "    <tr>\n",
       "      <th>25</th>\n",
       "      <td>Leaving Las Vegas (1995)</td>\n",
       "      <td>Drama|Romance</td>\n",
       "    </tr>\n",
       "    <tr>\n",
       "      <th>733</th>\n",
       "      <td>Rock, The (1996)</td>\n",
       "      <td>Action|Adventure|Thriller</td>\n",
       "    </tr>\n",
       "    <tr>\n",
       "      <th>141</th>\n",
       "      <td>Birdcage, The (1996)</td>\n",
       "      <td>Comedy</td>\n",
       "    </tr>\n",
       "    <tr>\n",
       "      <th>95</th>\n",
       "      <td>Broken Arrow (1996)</td>\n",
       "      <td>Action|Adventure|Thriller</td>\n",
       "    </tr>\n",
       "    <tr>\n",
       "      <th>736</th>\n",
       "      <td>Twister (1996)</td>\n",
       "      <td>Action|Adventure|Romance|Thriller</td>\n",
       "    </tr>\n",
       "    <tr>\n",
       "      <th>1356</th>\n",
       "      <td>Star Trek: First Contact (1996)</td>\n",
       "      <td>Action|Adventure|Sci-Fi|Thriller</td>\n",
       "    </tr>\n",
       "  </tbody>\n",
       "</table>\n",
       "</div>"
      ],
      "text/plain": [
       "                                              title  \\\n",
       "movieId                                               \n",
       "780            Independence Day (a.k.a. ID4) (1996)   \n",
       "1073     Willy Wonka & the Chocolate Factory (1971)   \n",
       "648                      Mission: Impossible (1996)   \n",
       "32        Twelve Monkeys (a.k.a. 12 Monkeys) (1995)   \n",
       "25                         Leaving Las Vegas (1995)   \n",
       "733                                Rock, The (1996)   \n",
       "141                            Birdcage, The (1996)   \n",
       "95                              Broken Arrow (1996)   \n",
       "736                                  Twister (1996)   \n",
       "1356                Star Trek: First Contact (1996)   \n",
       "\n",
       "                                    genres  \n",
       "movieId                                     \n",
       "780       Action|Adventure|Sci-Fi|Thriller  \n",
       "1073       Children|Comedy|Fantasy|Musical  \n",
       "648      Action|Adventure|Mystery|Thriller  \n",
       "32                 Mystery|Sci-Fi|Thriller  \n",
       "25                           Drama|Romance  \n",
       "733              Action|Adventure|Thriller  \n",
       "141                                 Comedy  \n",
       "95               Action|Adventure|Thriller  \n",
       "736      Action|Adventure|Romance|Thriller  \n",
       "1356      Action|Adventure|Sci-Fi|Thriller  "
      ]
     },
     "execution_count": 16,
     "metadata": {},
     "output_type": "execute_result"
    }
   ],
   "source": [
    "recommend_neighborhood(test_query, model, ratings, k = 10)"
   ]
  },
  {
   "cell_type": "code",
   "execution_count": null,
   "metadata": {},
   "outputs": [],
   "source": []
  }
 ],
 "metadata": {
  "kernelspec": {
   "display_name": "Python 3.9.7 ('base')",
   "language": "python",
   "name": "python3"
  },
  "language_info": {
   "codemirror_mode": {
    "name": "ipython",
    "version": 3
   },
   "file_extension": ".py",
   "mimetype": "text/x-python",
   "name": "python",
   "nbconvert_exporter": "python",
   "pygments_lexer": "ipython3",
   "version": "3.9.7"
  },
  "orig_nbformat": 4,
  "vscode": {
   "interpreter": {
    "hash": "abc7d9422c788b1f325554a74823655484f1a6b478c1481f1f9705007e56709b"
   }
  }
 },
 "nbformat": 4,
 "nbformat_minor": 2
}
